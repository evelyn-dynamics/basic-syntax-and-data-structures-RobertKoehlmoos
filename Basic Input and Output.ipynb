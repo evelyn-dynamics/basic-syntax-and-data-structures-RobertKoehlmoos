{
 "cells": [
  {
   "cell_type": "markdown",
   "source": [
    "# Basic Input and Output"
   ],
   "metadata": {}
  },
  {
   "cell_type": "markdown",
   "source": [
    "## Reading Input From the Keyboard"
   ],
   "metadata": {}
  },
  {
   "cell_type": "markdown",
   "source": [
    "Programs often need to obtain data from the user, usually by way of input from the keyboard. The simplest way to accomplish this in Python is with input().\n",
    "\n",
    "`input([<prompt>])`\n",
    "\n",
    "Reads a line of input from the keyboard.\n",
    "\n",
    "`input()` pauses program execution to allow the user to type in a line of input from the keyboard. Once the user presses the Enter key, all characters typed are read and returned as a string:"
   ],
   "metadata": {}
  },
  {
   "cell_type": "code",
   "execution_count": 1,
   "source": [
    "input()"
   ],
   "outputs": [
    {
     "output_type": "execute_result",
     "data": {
      "text/plain": [
       "'yeet'"
      ]
     },
     "metadata": {},
     "execution_count": 1
    }
   ],
   "metadata": {
    "scrolled": true
   }
  },
  {
   "cell_type": "markdown",
   "source": [
    "Note that the newline generated when the user presses the Enter key isn’t included as part of the return string.\n",
    "\n",
    "If you include the optional <prompt> argument, `input()` displays it as a prompt to the user before pausing to read input:"
   ],
   "metadata": {}
  },
  {
   "cell_type": "code",
   "execution_count": 2,
   "source": [
    "input('What is your name? ')"
   ],
   "outputs": [
    {
     "output_type": "execute_result",
     "data": {
      "text/plain": [
       "'joe'"
      ]
     },
     "metadata": {},
     "execution_count": 2
    }
   ],
   "metadata": {}
  },
  {
   "cell_type": "markdown",
   "source": [
    "`input()` always returns a string. If you want a numeric type, then you need to convert the string to the appropriate type with the `int()`, `float()`, or `complex()` built-in functions:"
   ],
   "metadata": {}
  },
  {
   "cell_type": "code",
   "execution_count": 5,
   "source": [
    "n = int( input('Enter a number: ') )\n",
    "\n",
    "print(n + 100)"
   ],
   "outputs": [
    {
     "output_type": "stream",
     "name": "stdout",
     "text": [
      "144\n"
     ]
    }
   ],
   "metadata": {}
  },
  {
   "cell_type": "code",
   "execution_count": 6,
   "source": [
    "n = int(input('Enter a number: '))\n",
    "\n",
    "print(n + 100)"
   ],
   "outputs": [
    {
     "output_type": "stream",
     "name": "stdout",
     "text": [
      "104\n"
     ]
    }
   ],
   "metadata": {}
  },
  {
   "cell_type": "markdown",
   "source": [
    "## Writing Output to the Console"
   ],
   "metadata": {}
  },
  {
   "cell_type": "markdown",
   "source": [
    "In addition to obtaining data from the user, a program will also usually need to present data back to the user. You can display program data to the console in Python with `print()`.\n",
    "\n",
    "To display objects to the console, pass them as a comma-separated list of arguments to `print()`.\n",
    "\n",
    "By default, `print()` separates each object by a single space and appends a newline to the end of the output:"
   ],
   "metadata": {}
  },
  {
   "cell_type": "code",
   "execution_count": 7,
   "source": [
    "fname = 'Winston'\n",
    "lname = 'Smith'\n",
    "\n",
    "print('Name:', fname, lname)"
   ],
   "outputs": [
    {
     "output_type": "stream",
     "name": "stdout",
     "text": [
      "Name: Winston Smith\n"
     ]
    }
   ],
   "metadata": {}
  },
  {
   "cell_type": "markdown",
   "source": [
    "Any type of object can be specified as an argument to `print()`. If an object isn’t a string, then `print()` converts it to an appropriate string representation displaying it:"
   ],
   "metadata": {}
  },
  {
   "cell_type": "code",
   "execution_count": null,
   "source": [
    "a = [1, 2, 3]\n",
    "print(type(a))\n",
    "\n",
    "\n",
    "b = -12\n",
    "print(type(b))\n",
    "\n",
    "\n",
    "d = {'foo': 1, 'bar': 2}\n",
    "print(type(d))\n",
    "\n",
    "\n",
    "print(type(len))\n",
    "\n",
    "\n",
    "print(a, b, d, len)\n"
   ],
   "outputs": [],
   "metadata": {}
  },
  {
   "cell_type": "markdown",
   "source": [
    "## Keyword Arguments to print()"
   ],
   "metadata": {}
  },
  {
   "cell_type": "markdown",
   "source": [
    "`print()` takes a few additional arguments that provide modest control over the format of the output. Each of these is a special type of argument called a keyword argument. This introductory series of tutorials will include a tutorial on functions and parameter passing so you can learn more about keyword arguments.\n",
    "\n",
    "For now, here’s what you need to know:\n",
    "\n",
    "- Keyword arguments have the form `<keyword>=<value>`.\n",
    "- Any keyword arguments passed to `print()` must come at the end, after the list of objects to display."
   ],
   "metadata": {}
  },
  {
   "cell_type": "markdown",
   "source": [
    "## The `sep=` Keyword Argument"
   ],
   "metadata": {}
  },
  {
   "cell_type": "markdown",
   "source": [
    "Adding the keyword argument `sep=<str>` causes objects to be separated by the string `<str>` instead of the default single space:"
   ],
   "metadata": {}
  },
  {
   "cell_type": "code",
   "execution_count": null,
   "source": [
    "print('foo', 42, 'bar')\n",
    "\n",
    "\n",
    "print('foo', 42, 'bar', sep='/')\n",
    "\n",
    "\n",
    "print('foo', 42, 'bar', sep='...')\n",
    "\n",
    "\n",
    "d = {'foo': 1, 'bar': 2, 'baz': 3}\n",
    "for k, v in d.items():\n",
    "    print(k, v, sep=' -> ')"
   ],
   "outputs": [],
   "metadata": {}
  },
  {
   "cell_type": "markdown",
   "source": [
    "To squish objects together without any space between them, specify `sep=''`\n",
    "\n",
    "You can specify any arbitrary string as the separator with the `sep=` keyword."
   ],
   "metadata": {}
  },
  {
   "cell_type": "markdown",
   "source": [
    "## The `end=` Keyword Argument"
   ],
   "metadata": {}
  },
  {
   "cell_type": "markdown",
   "source": [
    "The keyword argument `end=<str>` causes output to be terminated by `<str>` instead of the default newline:"
   ],
   "metadata": {}
  },
  {
   "cell_type": "code",
   "execution_count": null,
   "source": [
    "print('foo', end='/')\n",
    "print(42, end='/')\n",
    "print('bar')"
   ],
   "outputs": [],
   "metadata": {}
  }
 ],
 "metadata": {
  "kernelspec": {
   "name": "python3",
   "display_name": "Python 3.9.2 64-bit"
  },
  "language_info": {
   "codemirror_mode": {
    "name": "ipython",
    "version": 3
   },
   "file_extension": ".py",
   "mimetype": "text/x-python",
   "name": "python",
   "nbconvert_exporter": "python",
   "pygments_lexer": "ipython3",
   "version": "3.9.2"
  },
  "interpreter": {
   "hash": "916dbcbb3f70747c44a77c7bcd40155683ae19c65e1c03b4aa3499c5328201f1"
  }
 },
 "nbformat": 4,
 "nbformat_minor": 5
}