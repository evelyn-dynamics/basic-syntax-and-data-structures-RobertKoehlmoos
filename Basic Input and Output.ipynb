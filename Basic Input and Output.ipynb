{
 "cells": [
  {
   "cell_type": "markdown",
   "id": "hybrid-passport",
   "metadata": {},
   "source": [
    "# Basic Input and Output"
   ]
  },
  {
   "cell_type": "markdown",
   "id": "textile-values",
   "metadata": {},
   "source": [
    "## Reading Input From the Keyboard"
   ]
  },
  {
   "cell_type": "markdown",
   "id": "central-cornwall",
   "metadata": {},
   "source": [
    "Programs often need to obtain data from the user, usually by way of input from the keyboard. The simplest way to accomplish this in Python is with input().\n",
    "\n",
    "`input([<prompt>])`\n",
    "\n",
    "Reads a line of input from the keyboard.\n",
    "\n",
    "`input()` pauses program execution to allow the user to type in a line of input from the keyboard. Once the user presses the Enter key, all characters typed are read and returned as a string:"
   ]
  },
  {
   "cell_type": "code",
   "execution_count": null,
   "id": "reserved-february",
   "metadata": {
    "scrolled": true
   },
   "outputs": [],
   "source": [
    "input()"
   ]
  },
  {
   "cell_type": "markdown",
   "id": "alpine-burlington",
   "metadata": {},
   "source": [
    "Note that the newline generated when the user presses the Enter key isn’t included as part of the return string.\n",
    "\n",
    "If you include the optional <prompt> argument, `input()` displays it as a prompt to the user before pausing to read input:"
   ]
  },
  {
   "cell_type": "code",
   "execution_count": null,
   "id": "entire-quebec",
   "metadata": {},
   "outputs": [],
   "source": [
    "input('What is your name? ')"
   ]
  },
  {
   "cell_type": "markdown",
   "id": "fallen-perth",
   "metadata": {},
   "source": [
    "`input()` always returns a string. If you want a numeric type, then you need to convert the string to the appropriate type with the `int()`, `float()`, or `complex()` built-in functions:"
   ]
  },
  {
   "cell_type": "code",
   "execution_count": null,
   "id": "conventional-butter",
   "metadata": {},
   "outputs": [],
   "source": [
    "n = input('Enter a number: ')\n",
    "\n",
    "print(n + 100)"
   ]
  },
  {
   "cell_type": "code",
   "execution_count": null,
   "id": "incident-norwegian",
   "metadata": {},
   "outputs": [],
   "source": [
    "n = int(input('Enter a number: '))\n",
    "\n",
    "print(n + 100)"
   ]
  },
  {
   "cell_type": "markdown",
   "id": "infinite-layout",
   "metadata": {},
   "source": [
    "## Writing Output to the Console"
   ]
  },
  {
   "cell_type": "markdown",
   "id": "sophisticated-instruction",
   "metadata": {},
   "source": [
    "In addition to obtaining data from the user, a program will also usually need to present data back to the user. You can display program data to the console in Python with `print()`.\n",
    "\n",
    "To display objects to the console, pass them as a comma-separated list of arguments to `print()`.\n",
    "\n",
    "By default, `print()` separates each object by a single space and appends a newline to the end of the output:"
   ]
  },
  {
   "cell_type": "code",
   "execution_count": null,
   "id": "compatible-municipality",
   "metadata": {},
   "outputs": [],
   "source": [
    "fname = 'Winston'\n",
    "lname = 'Smith'\n",
    "\n",
    "print('Name:', fname, lname)"
   ]
  },
  {
   "cell_type": "markdown",
   "id": "continental-judge",
   "metadata": {},
   "source": [
    "Any type of object can be specified as an argument to `print()`. If an object isn’t a string, then `print()` converts it to an appropriate string representation displaying it:"
   ]
  },
  {
   "cell_type": "code",
   "execution_count": null,
   "id": "interesting-edinburgh",
   "metadata": {},
   "outputs": [],
   "source": [
    "a = [1, 2, 3]\n",
    "print(type(a))\n",
    "\n",
    "\n",
    "b = -12\n",
    "print(type(b))\n",
    "\n",
    "\n",
    "d = {'foo': 1, 'bar': 2}\n",
    "print(type(d))\n",
    "\n",
    "\n",
    "print(type(len))\n",
    "\n",
    "\n",
    "print(a, b, d, len)\n"
   ]
  },
  {
   "cell_type": "markdown",
   "id": "lyric-screw",
   "metadata": {},
   "source": [
    "## Keyword Arguments to print()"
   ]
  },
  {
   "cell_type": "markdown",
   "id": "unlimited-resident",
   "metadata": {},
   "source": [
    "`print()` takes a few additional arguments that provide modest control over the format of the output. Each of these is a special type of argument called a keyword argument. This introductory series of tutorials will include a tutorial on functions and parameter passing so you can learn more about keyword arguments.\n",
    "\n",
    "For now, here’s what you need to know:\n",
    "\n",
    "- Keyword arguments have the form `<keyword>=<value>`.\n",
    "- Any keyword arguments passed to `print()` must come at the end, after the list of objects to display."
   ]
  },
  {
   "cell_type": "markdown",
   "id": "nasty-finding",
   "metadata": {},
   "source": [
    "## The `sep=` Keyword Argument"
   ]
  },
  {
   "cell_type": "markdown",
   "id": "ahead-gospel",
   "metadata": {},
   "source": [
    "Adding the keyword argument `sep=<str>` causes objects to be separated by the string `<str>` instead of the default single space:"
   ]
  },
  {
   "cell_type": "code",
   "execution_count": null,
   "id": "rental-happiness",
   "metadata": {},
   "outputs": [],
   "source": [
    "print('foo', 42, 'bar')\n",
    "\n",
    "\n",
    "print('foo', 42, 'bar', sep='/')\n",
    "\n",
    "\n",
    "print('foo', 42, 'bar', sep='...')\n",
    "\n",
    "\n",
    "d = {'foo': 1, 'bar': 2, 'baz': 3}\n",
    "for k, v in d.items():\n",
    "    print(k, v, sep=' -> ')"
   ]
  },
  {
   "cell_type": "markdown",
   "id": "cutting-lodging",
   "metadata": {},
   "source": [
    "To squish objects together without any space between them, specify `sep=''`\n",
    "\n",
    "You can specify any arbitrary string as the separator with the `sep=` keyword."
   ]
  },
  {
   "cell_type": "markdown",
   "id": "collective-minutes",
   "metadata": {},
   "source": [
    "## The `end=` Keyword Argument"
   ]
  },
  {
   "cell_type": "markdown",
   "id": "narrow-summer",
   "metadata": {},
   "source": [
    "The keyword argument `end=<str>` causes output to be terminated by `<str>` instead of the default newline:"
   ]
  },
  {
   "cell_type": "code",
   "execution_count": null,
   "id": "ordered-stylus",
   "metadata": {},
   "outputs": [],
   "source": [
    "print('foo', end='/')\n",
    "print(42, end='/')\n",
    "print('bar')"
   ]
  }
 ],
 "metadata": {
  "kernelspec": {
   "display_name": "Python 3",
   "language": "python",
   "name": "python3"
  },
  "language_info": {
   "codemirror_mode": {
    "name": "ipython",
    "version": 3
   },
   "file_extension": ".py",
   "mimetype": "text/x-python",
   "name": "python",
   "nbconvert_exporter": "python",
   "pygments_lexer": "ipython3",
   "version": "3.7.9"
  }
 },
 "nbformat": 4,
 "nbformat_minor": 5
}
